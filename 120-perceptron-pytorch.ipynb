{
 "cells": [
  {
   "cell_type": "code",
   "execution_count": 8,
   "metadata": {
    "collapsed": true
   },
   "outputs": [],
   "source": [
    "from torch import tensor, tanh, sum\n",
    "from matplotlib import pyplot as plt\n",
    "\n",
    "import matplotlib\n",
    "import torchviz\n",
    "\n",
    "trainx = [ [0.0, 0.0], [0.0, 1.0], [1.0, 0.0], [1.0, 1.0] ]\n",
    "trainy = [ 0.0, 1.0, 1.0, 1.0 ]\n",
    "\n",
    "\n",
    "inputs = tensor(trainx)\n",
    "weights = tensor([2.0, 2.0], requires_grad=True)\n",
    "bias = tensor([0.1], requires_grad=True)\n",
    "parameters = [ weights, bias ]\n"
   ]
  },
  {
   "cell_type": "code",
   "execution_count": 9,
   "outputs": [],
   "source": [
    "stats = []\n"
   ],
   "metadata": {
    "collapsed": false
   }
  },
  {
   "cell_type": "code",
   "execution_count": 14,
   "outputs": [
    {
     "name": "stdout",
     "output_type": "stream",
     "text": [
      "[[0.0, 0.0], [0.0, 1.0], [1.0, 0.0], [1.0, 1.0]] \n",
      " [0.0, 1.0, 1.0, 1.0] \n",
      " tensor([9.8850e-05, 9.9502e-01, 9.9502e-01, 9.9999e-01],\n",
      "       grad_fn=<TanhBackward0>) \n",
      " tensor([ 9.8850e-05, -4.9769e-03, -4.9769e-03, -1.2457e-05],\n",
      "       grad_fn=<SubBackward0>) \n",
      " tensor([9.7712e-09, 2.4769e-05, 2.4769e-05, 1.5519e-10],\n",
      "       grad_fn=<PowBackward0>) \n",
      " tensor(4.9548e-05, grad_fn=<SumBackward0>) \n",
      " tensor([2.9967, 2.9967], requires_grad=True) \n",
      " tensor([9.8848e-05], requires_grad=True)\n",
      "tensor([-9.8831e-05, -9.8831e-05])\n",
      "tensor([3.8335e-08])\n"
     ]
    },
    {
     "data": {
      "text/plain": "[<matplotlib.lines.Line2D at 0x1ae70cfa490>]"
     },
     "execution_count": 14,
     "metadata": {},
     "output_type": "execute_result"
    },
    {
     "data": {
      "text/plain": "<Figure size 640x480 with 1 Axes>",
      "image/png": "[encoded data removed]"
     },
     "metadata": {},
     "output_type": "display_data"
    }
   ],
   "source": [
    "\n",
    "for i in range(10000):\n",
    "    linear = inputs @ weights + bias\n",
    "    nonlinear = tanh(linear)\n",
    "    loss1 = nonlinear - tensor(trainy)\n",
    "    loss2 = loss1**2\n",
    "    loss3 = sum(loss2)\n",
    "    if i % 100:\n",
    "        stats.append(loss3.data)\n",
    "\n",
    "    for p in parameters:\n",
    "        p.grad = None\n",
    "\n",
    "\n",
    "    loss3.backward()\n",
    "    lr = 0.05\n",
    "    for p in parameters:\n",
    "        p.data = p.data - (lr * p.grad.data)\n",
    "\n",
    "print( trainx, \"\\n\", trainy, \"\\n\", nonlinear, \"\\n\", loss1, \"\\n\", loss2, \"\\n\", loss3, \"\\n\", weights, \"\\n\", bias )\n",
    "for p in parameters:\n",
    "    print(p.grad)\n",
    "plt.plot(stats)"
   ],
   "metadata": {
    "collapsed": false
   }
  },
  {
   "cell_type": "code",
   "execution_count": 20,
   "outputs": [
    {
     "data": {
      "text/plain": "tensor([9.8848e-05], grad_fn=<TanhBackward0>)"
     },
     "execution_count": 20,
     "metadata": {},
     "output_type": "execute_result"
    }
   ],
   "source": [
    "linear = tensor([0.0, 0.0]) @ weights + bias\n",
    "nonlinear = tanh(linear)\n",
    "nonlinear"
   ],
   "metadata": {
    "collapsed": false
   }
  },
  {
   "cell_type": "code",
   "execution_count": 24,
   "outputs": [
    {
     "data": {
      "text/plain": "tensor([0.9950], grad_fn=<TanhBackward0>)"
     },
     "execution_count": 24,
     "metadata": {},
     "output_type": "execute_result"
    }
   ],
   "source": [
    "linear = tensor([1.0, 0.0]) @ weights + bias\n",
    "nonlinear = tanh(linear)\n",
    "nonlinear"
   ],
   "metadata": {
    "collapsed": false
   }
  },
  {
   "cell_type": "code",
   "execution_count": 25,
   "outputs": [
    {
     "data": {
      "text/plain": "tensor([0.9950], grad_fn=<TanhBackward0>)"
     },
     "execution_count": 25,
     "metadata": {},
     "output_type": "execute_result"
    }
   ],
   "source": [
    "linear = tensor([0.0, 1.0]) @ weights + bias\n",
    "nonlinear = tanh(linear)\n",
    "nonlinear"
   ],
   "metadata": {
    "collapsed": false
   }
  },
  {
   "cell_type": "code",
   "execution_count": 26,
   "outputs": [
    {
     "data": {
      "text/plain": "tensor([1.0000], grad_fn=<TanhBackward0>)"
     },
     "execution_count": 26,
     "metadata": {},
     "output_type": "execute_result"
    }
   ],
   "source": [
    "linear = tensor([1.0, 1.0]) @ weights + bias\n",
    "nonlinear = tanh(linear)\n",
    "nonlinear"
   ],
   "metadata": {
    "collapsed": false
   }
  }
 ],
 "metadata": {
  "kernelspec": {
   "display_name": "Python 3",
   "language": "python",
   "name": "python3"
  },
  "language_info": {
   "codemirror_mode": {
    "name": "ipython",
    "version": 2
   },
   "file_extension": ".py",
   "mimetype": "text/x-python",
   "name": "python",
   "nbconvert_exporter": "python",
   "pygments_lexer": "ipython2",
   "version": "2.7.6"
  }
 },
 "nbformat": 4,
 "nbformat_minor": 0
}
