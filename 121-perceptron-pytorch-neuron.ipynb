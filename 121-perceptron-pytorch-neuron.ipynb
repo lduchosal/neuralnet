{
 "cells": [
  {
   "cell_type": "code",
   "execution_count": 5,
   "metadata": {
    "collapsed": true
   },
   "outputs": [],
   "source": [
    "from torch import tensor, tanh, sum\n",
    "from matplotlib import pyplot as plt\n",
    "\n",
    "import matplotlib\n",
    "import torchviz\n",
    "\n",
    "trainx = [ [0.0, 0.0], [0.0, 1.0], [1.0, 0.0], [1.0, 1.0] ]\n",
    "trainy = [ 0.0, 1.0, 1.0, 1.0 ]\n",
    "\n",
    "\n",
    "inputs = tensor(trainx)\n",
    "weights = tensor([0.2, 0.2], requires_grad=True)\n",
    "bias = tensor([0.1], requires_grad=True)\n",
    "parameters = [ weights, bias ]\n"
   ]
  },
  {
   "cell_type": "code",
   "execution_count": 6,
   "outputs": [],
   "source": [
    "class Perceptron:\n",
    "\n",
    "    def __init__(self, weights, bias):\n",
    "        self.weights = weights\n",
    "        self.bias = bias\n",
    "\n",
    "    def __call__(self, inputs):\n",
    "        linear = inputs @ weights + bias\n",
    "        result = tanh(linear)\n",
    "        return result\n"
   ],
   "metadata": {
    "collapsed": false
   }
  },
  {
   "cell_type": "code",
   "execution_count": 7,
   "outputs": [],
   "source": [
    "stats = []\n",
    "neuron = Perceptron(weights, bias)\n"
   ],
   "metadata": {
    "collapsed": false
   }
  },
  {
   "cell_type": "code",
   "execution_count": 8,
   "outputs": [
    {
     "name": "stdout",
     "output_type": "stream",
     "text": [
      "[[0.0, 0.0], [0.0, 1.0], [1.0, 0.0], [1.0, 1.0]] \n",
      " [0.0, 1.0, 1.0, 1.0] \n",
      " tensor([0.0058, 0.9617, 0.9617, 0.9992], grad_fn=<TanhBackward0>) \n",
      " tensor([ 0.0058, -0.0383, -0.0383, -0.0008], grad_fn=<SubBackward0>) \n",
      " tensor([3.3739e-05, 1.4639e-03, 1.4639e-03, 5.9194e-07],\n",
      "       grad_fn=<PowBackward0>) \n",
      " tensor(0.0030, grad_fn=<SumBackward0>) \n",
      " tensor([1.9628, 1.9628], requires_grad=True) \n",
      " tensor([0.0058], requires_grad=True)\n",
      "tensor([-0.0057, -0.0057])\n",
      "tensor([0.0001])\n"
     ]
    },
    {
     "data": {
      "text/plain": "[<matplotlib.lines.Line2D at 0x1b50b240910>]"
     },
     "execution_count": 8,
     "metadata": {},
     "output_type": "execute_result"
    },
    {
     "data": {
      "text/plain": "<Figure size 640x480 with 1 Axes>",
      "image/png": "[encoded data removed]"
     },
     "metadata": {},
     "output_type": "display_data"
    }
   ],
   "source": [
    "\n",
    "for i in range(100000):\n",
    "    nonlinear = neuron(inputs)\n",
    "    loss1 = nonlinear - tensor(trainy)\n",
    "    loss2 = loss1**2\n",
    "    loss3 = sum(loss2)\n",
    "    if i % 1000:\n",
    "        stats.append(loss3.data)\n",
    "\n",
    "    for p in parameters:\n",
    "        p.grad = None\n",
    "\n",
    "\n",
    "    loss3.backward()\n",
    "    lr = 0.0005\n",
    "    for p in parameters:\n",
    "        p.data = p.data - (lr * p.grad.data)\n",
    "\n",
    "print( trainx, \"\\n\", trainy, \"\\n\", nonlinear, \"\\n\", loss1, \"\\n\", loss2, \"\\n\", loss3, \"\\n\", weights, \"\\n\", bias )\n",
    "for p in parameters:\n",
    "    print(p.grad)\n",
    "plt.plot(stats)"
   ],
   "metadata": {
    "collapsed": false
   }
  },
  {
   "cell_type": "code",
   "execution_count": 13,
   "outputs": [
    {
     "data": {
      "text/plain": "tensor([0.0058], grad_fn=<TanhBackward0>)"
     },
     "execution_count": 13,
     "metadata": {},
     "output_type": "execute_result"
    }
   ],
   "source": [
    "neuron(tensor([0.0, 0.0]))"
   ],
   "metadata": {
    "collapsed": false
   }
  },
  {
   "cell_type": "code",
   "execution_count": 14,
   "outputs": [
    {
     "data": {
      "text/plain": "tensor([0.9617], grad_fn=<TanhBackward0>)"
     },
     "execution_count": 14,
     "metadata": {},
     "output_type": "execute_result"
    }
   ],
   "source": [
    "neuron(tensor([1.0, 0.0]))"
   ],
   "metadata": {
    "collapsed": false
   }
  },
  {
   "cell_type": "code",
   "execution_count": 15,
   "outputs": [
    {
     "data": {
      "text/plain": "tensor([0.9617], grad_fn=<TanhBackward0>)"
     },
     "execution_count": 15,
     "metadata": {},
     "output_type": "execute_result"
    }
   ],
   "source": [
    "neuron(tensor([0.0, 1.0]))"
   ],
   "metadata": {
    "collapsed": false
   }
  },
  {
   "cell_type": "code",
   "execution_count": 16,
   "outputs": [
    {
     "data": {
      "text/plain": "tensor([0.9992], grad_fn=<TanhBackward0>)"
     },
     "execution_count": 16,
     "metadata": {},
     "output_type": "execute_result"
    }
   ],
   "source": [
    "neuron(tensor([1.0, 1.0]))"
   ],
   "metadata": {
    "collapsed": false
   }
  },
  {
   "cell_type": "code",
   "execution_count": null,
   "outputs": [],
   "source": [],
   "metadata": {
    "collapsed": false
   }
  }
 ],
 "metadata": {
  "kernelspec": {
   "display_name": "Python 3",
   "language": "python",
   "name": "python3"
  },
  "language_info": {
   "codemirror_mode": {
    "name": "ipython",
    "version": 2
   },
   "file_extension": ".py",
   "mimetype": "text/x-python",
   "name": "python",
   "nbconvert_exporter": "python",
   "pygments_lexer": "ipython2",
   "version": "2.7.6"
  }
 },
 "nbformat": 4,
 "nbformat_minor": 0
}
