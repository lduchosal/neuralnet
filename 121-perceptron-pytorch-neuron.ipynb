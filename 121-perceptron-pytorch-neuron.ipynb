{
 "cells": [
  {
   "cell_type": "code",
   "execution_count": 7,
   "metadata": {
    "collapsed": true
   },
   "outputs": [],
   "source": [
    "from torch import tensor, tanh, sum\n",
    "from matplotlib import pyplot as plt\n",
    "\n",
    "import matplotlib\n",
    "import torchviz\n",
    "\n",
    "trainx = [ [0.0, 0.0], [0.0, 1.0], [1.0, 0.0], [1.0, 1.0] ]\n",
    "trainy = [ 0.0, 1.0, 1.0, 1.0 ]\n",
    "\n",
    "\n",
    "inputs = tensor(trainx)\n",
    "weights = tensor([0.2, 0.2], requires_grad=True)\n",
    "bias = tensor([0.1], requires_grad=True)\n",
    "parameters = [ weights, bias ]\n"
   ]
  },
  {
   "cell_type": "code",
   "execution_count": 24,
   "outputs": [],
   "source": [
    "class Neuron:\n",
    "\n",
    "    def __init__(self, weights, bias):\n",
    "        self.weights = weights\n",
    "        self.bias = bias\n",
    "\n",
    "    def __call__(self, inputs):\n",
    "        linear = inputs @ weights + bias\n",
    "        result = tanh(linear)\n",
    "        return result\n",
    "\n",
    "def mean_square_root(y, y_expected):\n",
    "    return ((y - y_expected)**2).mean()\n"
   ],
   "metadata": {
    "collapsed": false
   }
  },
  {
   "cell_type": "code",
   "execution_count": 25,
   "outputs": [],
   "source": [
    "stats = []\n",
    "neuron = Neuron(weights, bias)\n"
   ],
   "metadata": {
    "collapsed": false
   }
  },
  {
   "cell_type": "code",
   "execution_count": 40,
   "outputs": [
    {
     "name": "stdout",
     "output_type": "stream",
     "text": [
      "[[0.0, 0.0], [0.0, 1.0], [1.0, 0.0], [1.0, 1.0]] \n",
      " [0.0, 1.0, 1.0, 1.0] \n",
      " tensor([9.0916e-04, 9.8488e-01, 9.8488e-01, 9.9988e-01],\n",
      "       grad_fn=<TanhBackward0>) \n",
      " tensor(0.0001, grad_fn=<MeanBackward0>) \n",
      " tensor([2.4378, 2.4378], requires_grad=True) \n",
      " tensor([0.0009], requires_grad=True)\n",
      "tensor([-0.0002, -0.0002])\n",
      "tensor([8.1828e-07])\n"
     ]
    },
    {
     "data": {
      "text/plain": "[<matplotlib.lines.Line2D at 0x1f3235ca7c0>]"
     },
     "execution_count": 40,
     "metadata": {},
     "output_type": "execute_result"
    },
    {
     "data": {
      "text/plain": "<Figure size 640x480 with 1 Axes>",
      "image/png": "[encoded data removed]"
     },
     "metadata": {},
     "output_type": "display_data"
    }
   ],
   "source": [
    "\n",
    "for i in range(1000):\n",
    "    nonlinear = neuron(inputs)\n",
    "    loss = mean_square_root(nonlinear, tensor(trainy))\n",
    "    if i % 10:\n",
    "        stats.append(loss.data)\n",
    "\n",
    "    for p in parameters:\n",
    "        p.grad = None\n",
    "\n",
    "\n",
    "    loss.backward()\n",
    "    lr = 0.05\n",
    "    for p in parameters:\n",
    "        p.data = p.data - (lr * p.grad.data)\n",
    "\n",
    "print( trainx, \"\\n\", trainy, \"\\n\", nonlinear, \"\\n\", loss, \"\\n\", weights, \"\\n\", bias )\n",
    "for p in parameters:\n",
    "    print(p.grad)\n",
    "plt.plot(stats)"
   ],
   "metadata": {
    "collapsed": false
   }
  },
  {
   "cell_type": "code",
   "execution_count": 41,
   "outputs": [
    {
     "data": {
      "text/plain": "tensor([0.0009], grad_fn=<TanhBackward0>)"
     },
     "execution_count": 41,
     "metadata": {},
     "output_type": "execute_result"
    }
   ],
   "source": [
    "neuron(tensor([0.0, 0.0]))"
   ],
   "metadata": {
    "collapsed": false
   }
  },
  {
   "cell_type": "code",
   "execution_count": 42,
   "outputs": [
    {
     "data": {
      "text/plain": "tensor([0.9849], grad_fn=<TanhBackward0>)"
     },
     "execution_count": 42,
     "metadata": {},
     "output_type": "execute_result"
    }
   ],
   "source": [
    "neuron(tensor([1.0, 0.0]))"
   ],
   "metadata": {
    "collapsed": false
   }
  },
  {
   "cell_type": "code",
   "execution_count": 43,
   "outputs": [
    {
     "data": {
      "text/plain": "tensor([0.9849], grad_fn=<TanhBackward0>)"
     },
     "execution_count": 43,
     "metadata": {},
     "output_type": "execute_result"
    }
   ],
   "source": [
    "neuron(tensor([0.0, 1.0]))"
   ],
   "metadata": {
    "collapsed": false
   }
  },
  {
   "cell_type": "code",
   "execution_count": 44,
   "outputs": [
    {
     "data": {
      "text/plain": "tensor([0.9999], grad_fn=<TanhBackward0>)"
     },
     "execution_count": 44,
     "metadata": {},
     "output_type": "execute_result"
    }
   ],
   "source": [
    "neuron(tensor([1.0, 1.0]))"
   ],
   "metadata": {
    "collapsed": false
   }
  },
  {
   "cell_type": "code",
   "execution_count": null,
   "outputs": [],
   "source": [],
   "metadata": {
    "collapsed": false
   }
  }
 ],
 "metadata": {
  "kernelspec": {
   "display_name": "Python 3",
   "language": "python",
   "name": "python3"
  },
  "language_info": {
   "codemirror_mode": {
    "name": "ipython",
    "version": 2
   },
   "file_extension": ".py",
   "mimetype": "text/x-python",
   "name": "python",
   "nbconvert_exporter": "python",
   "pygments_lexer": "ipython2",
   "version": "2.7.6"
  }
 },
 "nbformat": 4,
 "nbformat_minor": 0
}
