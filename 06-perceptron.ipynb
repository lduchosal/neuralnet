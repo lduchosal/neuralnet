{
 "cells": [
  {
   "cell_type": "code",
   "execution_count": 54,
   "outputs": [
    {
     "data": {
      "text/plain": "<Figure size 800x800 with 1 Axes>",
      "image/png": "[encoded data removed]"
     },
     "metadata": {},
     "output_type": "display_data"
    }
   ],
   "source": [
    "from matplotlib import pyplot as plt\n",
    "import numpy as np\n",
    "from torchviz import make_dot\n",
    "\n",
    "x_train = np.arange(-5.0, 5.0, 0.1)\n",
    "y_train = 2* x_train - np.sin(x_train*2)\n",
    "\n",
    "plt.figure(figsize=(8,8))\n",
    "plt.scatter(x_train, y_train, c='green', s=4, label='Original data')\n",
    "plt.show()\n"
   ],
   "metadata": {
    "collapsed": false
   }
  },
  {
   "cell_type": "code",
   "execution_count": 62,
   "outputs": [],
   "source": [
    "import torch\n",
    "\n",
    "i0 = torch.tensor([1.0], dtype=float)\n",
    "w0 = torch.tensor([1.0], requires_grad=True, dtype=float)\n",
    "wbias = torch.tensor([2.0], requires_grad=True, dtype=float)\n",
    "\n"
   ],
   "metadata": {
    "collapsed": false
   }
  },
  {
   "cell_type": "code",
   "execution_count": 63,
   "outputs": [],
   "source": [
    "i0\n",
    "i=0\n",
    "learning_rate=0.1\n"
   ],
   "metadata": {
    "collapsed": false
   }
  },
  {
   "cell_type": "code",
   "execution_count": 64,
   "outputs": [
    {
     "name": "stdout",
     "output_type": "stream",
     "text": [
      "i 0\n",
      "xtrain -5.0\n",
      "ytrain -10.54402111088937\n"
     ]
    }
   ],
   "source": [
    "print(\"i\", i)\n",
    "print(\"xtrain\", x_train[i])\n",
    "print(\"ytrain\", y_train[i])\n",
    "expected = y_train[i]\n",
    "i0 = x_train[i]\n",
    "neuron = torch.tanh( (( i0 * w0 ) + (1 * wbias)))\n",
    "loss = -((expected - neuron) ** 2)\n",
    "loss.backward()\n"
   ],
   "metadata": {
    "collapsed": false
   }
  },
  {
   "cell_type": "code",
   "execution_count": 66,
   "outputs": [
    {
     "data": {
      "image/svg+xml": "<?xml version=\"1.0\" encoding=\"UTF-8\" standalone=\"no\"?>\n<!DOCTYPE svg PUBLIC \"-//W3C//DTD SVG 1.1//EN\"\n \"http://www.w3.org/Graphics/SVG/1.1/DTD/svg11.dtd\">\n<!-- Generated by graphviz version 7.1.0 (20230121.1956)\n -->\n<!-- Pages: 1 -->\n<svg width=\"228pt\" height=\"491pt\"\n viewBox=\"0.00 0.00 228.00 491.00\" xmlns=\"http://www.w3.org/2000/svg\" xmlns:xlink=\"http://www.w3.org/1999/xlink\">\n<g id=\"graph0\" class=\"graph\" transform=\"scale(1 1) rotate(0) translate(4 487)\">\n<polygon fill=\"white\" stroke=\"none\" points=\"-4,4 -4,-487 224,-487 224,4 -4,4\"/>\n<!-- 1829439506768 -->\n<g id=\"node1\" class=\"node\">\n<title>1829439506768</title>\n<polygon fill=\"#caff70\" stroke=\"black\" points=\"136.5,-31 82.5,-31 82.5,0 136.5,0 136.5,-31\"/>\n<text text-anchor=\"middle\" x=\"109.5\" y=\"-7\" font-family=\"monospace\" font-size=\"10.00\"> (1)</text>\n</g>\n<!-- 1827870415216 -->\n<g id=\"node2\" class=\"node\">\n<title>1827870415216</title>\n<polygon fill=\"lightgrey\" stroke=\"black\" points=\"154,-86 65,-86 65,-67 154,-67 154,-86\"/>\n<text text-anchor=\"middle\" x=\"109.5\" y=\"-74\" font-family=\"monospace\" font-size=\"10.00\">NegBackward0</text>\n</g>\n<!-- 1827870415216&#45;&gt;1829439506768 -->\n<g id=\"edge11\" class=\"edge\">\n<title>1827870415216&#45;&gt;1829439506768</title>\n<path fill=\"none\" stroke=\"black\" d=\"M109.5,-66.54C109.5,-60.07 109.5,-50.98 109.5,-42.32\"/>\n<polygon fill=\"black\" stroke=\"black\" points=\"113,-42.58 109.5,-32.58 106,-42.58 113,-42.58\"/>\n</g>\n<!-- 1827870416656 -->\n<g id=\"node3\" class=\"node\">\n<title>1827870416656</title>\n<polygon fill=\"lightgrey\" stroke=\"black\" points=\"154,-141 65,-141 65,-122 154,-122 154,-141\"/>\n<text text-anchor=\"middle\" x=\"109.5\" y=\"-129\" font-family=\"monospace\" font-size=\"10.00\">PowBackward0</text>\n</g>\n<!-- 1827870416656&#45;&gt;1827870415216 -->\n<g id=\"edge1\" class=\"edge\">\n<title>1827870416656&#45;&gt;1827870415216</title>\n<path fill=\"none\" stroke=\"black\" d=\"M109.5,-121.75C109.5,-115.27 109.5,-106.16 109.5,-97.9\"/>\n<polygon fill=\"black\" stroke=\"black\" points=\"113,-97.96 109.5,-87.96 106,-97.96 113,-97.96\"/>\n</g>\n<!-- 1827890519776 -->\n<g id=\"node4\" class=\"node\">\n<title>1827890519776</title>\n<polygon fill=\"lightgrey\" stroke=\"black\" points=\"157,-196 62,-196 62,-177 157,-177 157,-196\"/>\n<text text-anchor=\"middle\" x=\"109.5\" y=\"-184\" font-family=\"monospace\" font-size=\"10.00\">RsubBackward1</text>\n</g>\n<!-- 1827890519776&#45;&gt;1827870416656 -->\n<g id=\"edge2\" class=\"edge\">\n<title>1827890519776&#45;&gt;1827870416656</title>\n<path fill=\"none\" stroke=\"black\" d=\"M109.5,-176.75C109.5,-170.27 109.5,-161.16 109.5,-152.9\"/>\n<polygon fill=\"black\" stroke=\"black\" points=\"113,-152.96 109.5,-142.96 106,-152.96 113,-152.96\"/>\n</g>\n<!-- 1827890516416 -->\n<g id=\"node5\" class=\"node\">\n<title>1827890516416</title>\n<polygon fill=\"lightgrey\" stroke=\"black\" points=\"157,-251 62,-251 62,-232 157,-232 157,-251\"/>\n<text text-anchor=\"middle\" x=\"109.5\" y=\"-239\" font-family=\"monospace\" font-size=\"10.00\">TanhBackward0</text>\n</g>\n<!-- 1827890516416&#45;&gt;1827890519776 -->\n<g id=\"edge3\" class=\"edge\">\n<title>1827890516416&#45;&gt;1827890519776</title>\n<path fill=\"none\" stroke=\"black\" d=\"M109.5,-231.75C109.5,-225.27 109.5,-216.16 109.5,-207.9\"/>\n<polygon fill=\"black\" stroke=\"black\" points=\"113,-207.96 109.5,-197.96 106,-207.96 113,-207.96\"/>\n</g>\n<!-- 1827890516128 -->\n<g id=\"node6\" class=\"node\">\n<title>1827890516128</title>\n<polygon fill=\"lightgrey\" stroke=\"black\" points=\"154,-306 65,-306 65,-287 154,-287 154,-306\"/>\n<text text-anchor=\"middle\" x=\"109.5\" y=\"-294\" font-family=\"monospace\" font-size=\"10.00\">AddBackward0</text>\n</g>\n<!-- 1827890516128&#45;&gt;1827890516416 -->\n<g id=\"edge4\" class=\"edge\">\n<title>1827890516128&#45;&gt;1827890516416</title>\n<path fill=\"none\" stroke=\"black\" d=\"M109.5,-286.75C109.5,-280.27 109.5,-271.16 109.5,-262.9\"/>\n<polygon fill=\"black\" stroke=\"black\" points=\"113,-262.96 109.5,-252.96 106,-262.96 113,-262.96\"/>\n</g>\n<!-- 1827890519152 -->\n<g id=\"node7\" class=\"node\">\n<title>1827890519152</title>\n<polygon fill=\"lightgrey\" stroke=\"black\" points=\"101,-361 12,-361 12,-342 101,-342 101,-361\"/>\n<text text-anchor=\"middle\" x=\"56.5\" y=\"-349\" font-family=\"monospace\" font-size=\"10.00\">MulBackward0</text>\n</g>\n<!-- 1827890519152&#45;&gt;1827890516128 -->\n<g id=\"edge5\" class=\"edge\">\n<title>1827890519152&#45;&gt;1827890516128</title>\n<path fill=\"none\" stroke=\"black\" d=\"M65.25,-341.75C72.65,-334.35 83.46,-323.54 92.55,-314.45\"/>\n<polygon fill=\"black\" stroke=\"black\" points=\"94.89,-317.06 99.49,-307.51 89.94,-312.11 94.89,-317.06\"/>\n</g>\n<!-- 1827890519584 -->\n<g id=\"node8\" class=\"node\">\n<title>1827890519584</title>\n<polygon fill=\"lightgrey\" stroke=\"black\" points=\"101,-416 0,-416 0,-397 101,-397 101,-416\"/>\n<text text-anchor=\"middle\" x=\"50.5\" y=\"-404\" font-family=\"monospace\" font-size=\"10.00\">AccumulateGrad</text>\n</g>\n<!-- 1827890519584&#45;&gt;1827890519152 -->\n<g id=\"edge6\" class=\"edge\">\n<title>1827890519584&#45;&gt;1827890519152</title>\n<path fill=\"none\" stroke=\"black\" d=\"M51.49,-396.75C52.23,-390.19 53.28,-380.95 54.22,-372.6\"/>\n<polygon fill=\"black\" stroke=\"black\" points=\"57.67,-373.28 55.32,-362.95 50.71,-372.49 57.67,-373.28\"/>\n</g>\n<!-- 1827870826720 -->\n<g id=\"node9\" class=\"node\">\n<title>1827870826720</title>\n<polygon fill=\"lightblue\" stroke=\"black\" points=\"77.5,-483 23.5,-483 23.5,-452 77.5,-452 77.5,-483\"/>\n<text text-anchor=\"middle\" x=\"50.5\" y=\"-459\" font-family=\"monospace\" font-size=\"10.00\"> (1)</text>\n</g>\n<!-- 1827870826720&#45;&gt;1827890519584 -->\n<g id=\"edge7\" class=\"edge\">\n<title>1827870826720&#45;&gt;1827890519584</title>\n<path fill=\"none\" stroke=\"black\" d=\"M50.5,-451.61C50.5,-444.35 50.5,-435.51 50.5,-427.66\"/>\n<polygon fill=\"black\" stroke=\"black\" points=\"54,-427.67 50.5,-417.67 47,-427.67 54,-427.67\"/>\n</g>\n<!-- 1827890519056 -->\n<g id=\"node10\" class=\"node\">\n<title>1827890519056</title>\n<polygon fill=\"lightgrey\" stroke=\"black\" points=\"211,-361 122,-361 122,-342 211,-342 211,-361\"/>\n<text text-anchor=\"middle\" x=\"166.5\" y=\"-349\" font-family=\"monospace\" font-size=\"10.00\">MulBackward0</text>\n</g>\n<!-- 1827890519056&#45;&gt;1827890516128 -->\n<g id=\"edge8\" class=\"edge\">\n<title>1827890519056&#45;&gt;1827890516128</title>\n<path fill=\"none\" stroke=\"black\" d=\"M156.83,-341.51C148.76,-334 137.03,-323.1 127.28,-314.03\"/>\n<polygon fill=\"black\" stroke=\"black\" points=\"129.84,-311.63 120.13,-307.39 125.07,-316.76 129.84,-311.63\"/>\n</g>\n<!-- 1827890517616 -->\n<g id=\"node11\" class=\"node\">\n<title>1827890517616</title>\n<polygon fill=\"lightgrey\" stroke=\"black\" points=\"220,-416 119,-416 119,-397 220,-397 220,-416\"/>\n<text text-anchor=\"middle\" x=\"169.5\" y=\"-404\" font-family=\"monospace\" font-size=\"10.00\">AccumulateGrad</text>\n</g>\n<!-- 1827890517616&#45;&gt;1827890519056 -->\n<g id=\"edge9\" class=\"edge\">\n<title>1827890517616&#45;&gt;1827890519056</title>\n<path fill=\"none\" stroke=\"black\" d=\"M169,-396.75C168.64,-390.27 168.12,-381.16 167.65,-372.9\"/>\n<polygon fill=\"black\" stroke=\"black\" points=\"171.15,-372.74 167.09,-362.95 164.16,-373.13 171.15,-372.74\"/>\n</g>\n<!-- 1827890605408 -->\n<g id=\"node12\" class=\"node\">\n<title>1827890605408</title>\n<polygon fill=\"lightblue\" stroke=\"black\" points=\"196.5,-483 142.5,-483 142.5,-452 196.5,-452 196.5,-483\"/>\n<text text-anchor=\"middle\" x=\"169.5\" y=\"-459\" font-family=\"monospace\" font-size=\"10.00\"> (1)</text>\n</g>\n<!-- 1827890605408&#45;&gt;1827890517616 -->\n<g id=\"edge10\" class=\"edge\">\n<title>1827890605408&#45;&gt;1827890517616</title>\n<path fill=\"none\" stroke=\"black\" d=\"M169.5,-451.61C169.5,-444.35 169.5,-435.51 169.5,-427.66\"/>\n<polygon fill=\"black\" stroke=\"black\" points=\"173,-427.67 169.5,-417.67 166,-427.67 173,-427.67\"/>\n</g>\n</g>\n</svg>\n",
      "text/plain": "<graphviz.graphs.Digraph at 0x1a996c3dd60>"
     },
     "execution_count": 66,
     "metadata": {},
     "output_type": "execute_result"
    }
   ],
   "source": [
    "make_dot(loss)\n"
   ],
   "metadata": {
    "collapsed": false
   }
  },
  {
   "cell_type": "code",
   "execution_count": 68,
   "outputs": [
    {
     "ename": "AttributeError",
     "evalue": "'Tensor' object has no attribute 'training'",
     "output_type": "error",
     "traceback": [
      "\u001B[1;31m---------------------------------------------------------------------------\u001B[0m",
      "\u001B[1;31mAttributeError\u001B[0m                            Traceback (most recent call last)",
      "Cell \u001B[1;32mIn[68], line 2\u001B[0m\n\u001B[0;32m      1\u001B[0m \u001B[38;5;28;01mfrom\u001B[39;00m \u001B[38;5;21;01mtorchview\u001B[39;00m \u001B[38;5;28;01mimport\u001B[39;00m draw_graph\n\u001B[1;32m----> 2\u001B[0m model_graph \u001B[38;5;241m=\u001B[39m \u001B[43mdraw_graph\u001B[49m\u001B[43m(\u001B[49m\u001B[43mloss\u001B[49m\u001B[43m,\u001B[49m\u001B[43m \u001B[49m\u001B[43minput_size\u001B[49m\u001B[38;5;241;43m=\u001B[39;49m\u001B[43m(\u001B[49m\u001B[38;5;241;43m2\u001B[39;49m\u001B[43m,\u001B[49m\u001B[43m \u001B[49m\u001B[38;5;241;43m128\u001B[39;49m\u001B[43m)\u001B[49m\u001B[43m,\u001B[49m\u001B[43m \u001B[49m\u001B[43mdevice\u001B[49m\u001B[38;5;241;43m=\u001B[39;49m\u001B[38;5;124;43m'\u001B[39;49m\u001B[38;5;124;43mmeta\u001B[39;49m\u001B[38;5;124;43m'\u001B[39;49m\u001B[43m)\u001B[49m\n\u001B[0;32m      3\u001B[0m model_graph\u001B[38;5;241m.\u001B[39mvisual_graph\n",
      "File \u001B[1;32m~\\Neural Networks Zero to Hero\\venv\\lib\\site-packages\\torchview\\torchview.py:220\u001B[0m, in \u001B[0;36mdraw_graph\u001B[1;34m(model, input_data, input_size, graph_name, depth, device, dtypes, mode, strict, expand_nested, graph_dir, hide_module_functions, hide_inner_tensors, roll, show_shapes, save_graph, filename, directory, **kwargs)\u001B[0m\n\u001B[0;32m    211\u001B[0m input_recorder_tensor, kwargs_record_tensor, input_nodes \u001B[38;5;241m=\u001B[39m process_input(\n\u001B[0;32m    212\u001B[0m     input_data, input_size, kwargs, device, dtypes\n\u001B[0;32m    213\u001B[0m )\n\u001B[0;32m    215\u001B[0m model_graph \u001B[38;5;241m=\u001B[39m ComputationGraph(\n\u001B[0;32m    216\u001B[0m     visual_graph, input_nodes, show_shapes, expand_nested,\n\u001B[0;32m    217\u001B[0m     hide_inner_tensors, hide_module_functions, roll, depth\n\u001B[0;32m    218\u001B[0m )\n\u001B[1;32m--> 220\u001B[0m forward_prop(\n\u001B[0;32m    221\u001B[0m     model, input_recorder_tensor, device, model_graph,\n\u001B[0;32m    222\u001B[0m     model_mode, \u001B[38;5;241m*\u001B[39m\u001B[38;5;241m*\u001B[39mkwargs_record_tensor\n\u001B[0;32m    223\u001B[0m )\n\u001B[0;32m    225\u001B[0m model_graph\u001B[38;5;241m.\u001B[39mfill_visual_graph()\n\u001B[0;32m    227\u001B[0m \u001B[38;5;28;01mif\u001B[39;00m save_graph:\n",
      "File \u001B[1;32m~\\Neural Networks Zero to Hero\\venv\\lib\\site-packages\\torchview\\torchview.py:242\u001B[0m, in \u001B[0;36mforward_prop\u001B[1;34m(model, x, device, model_graph, mode, **kwargs)\u001B[0m\n\u001B[0;32m    232\u001B[0m \u001B[38;5;28;01mdef\u001B[39;00m \u001B[38;5;21mforward_prop\u001B[39m(\n\u001B[0;32m    233\u001B[0m     model: nn\u001B[38;5;241m.\u001B[39mModule,\n\u001B[0;32m    234\u001B[0m     x: CORRECTED_INPUT_DATA_TYPE,\n\u001B[1;32m   (...)\u001B[0m\n\u001B[0;32m    238\u001B[0m     \u001B[38;5;241m*\u001B[39m\u001B[38;5;241m*\u001B[39mkwargs: Any,\n\u001B[0;32m    239\u001B[0m ) \u001B[38;5;241m-\u001B[39m\u001B[38;5;241m>\u001B[39m \u001B[38;5;28;01mNone\u001B[39;00m:\n\u001B[0;32m    240\u001B[0m \u001B[38;5;250m    \u001B[39m\u001B[38;5;124;03m'''Performs forward propagation of model on RecorderTensor\u001B[39;00m\n\u001B[0;32m    241\u001B[0m \u001B[38;5;124;03m    inside context to use module_forward_wrapper'''\u001B[39;00m\n\u001B[1;32m--> 242\u001B[0m     saved_model_mode \u001B[38;5;241m=\u001B[39m \u001B[43mmodel\u001B[49m\u001B[38;5;241;43m.\u001B[39;49m\u001B[43mtraining\u001B[49m\n\u001B[0;32m    243\u001B[0m     \u001B[38;5;28;01mtry\u001B[39;00m:\n\u001B[0;32m    244\u001B[0m         \u001B[38;5;28;01mif\u001B[39;00m mode \u001B[38;5;241m==\u001B[39m \u001B[38;5;124m'\u001B[39m\u001B[38;5;124mtrain\u001B[39m\u001B[38;5;124m'\u001B[39m:\n",
      "\u001B[1;31mAttributeError\u001B[0m: 'Tensor' object has no attribute 'training'"
     ]
    }
   ],
   "source": [
    "from torchview import draw_graph\n",
    "model_graph = draw_graph(loss, input_size=(2, 128), device='meta')\n",
    "model_graph.visual_graph\n"
   ],
   "metadata": {
    "collapsed": false
   }
  },
  {
   "cell_type": "code",
   "execution_count": 45,
   "outputs": [
    {
     "name": "stderr",
     "output_type": "stream",
     "text": [
      "C:\\Users\\Q\\AppData\\Local\\Temp\\ipykernel_5396\\240981279.py:1: UserWarning: The .grad attribute of a Tensor that is not a leaf Tensor is being accessed. Its .grad attribute won't be populated during autograd.backward(). If you indeed want the .grad field to be populated for a non-leaf Tensor, use .retain_grad() on the non-leaf Tensor. If you access the non-leaf Tensor by mistake, make sure you access the leaf Tensor instead. See github.com/pytorch/pytorch/pull/30531 for more informations. (Triggered internally at C:\\actions-runner\\_work\\pytorch\\pytorch\\builder\\windows\\pytorch\\build\\aten\\src\\ATen/core/TensorBody.h:485.)\n",
      "  loss.grad\n"
     ]
    }
   ],
   "source": [
    "loss.grad"
   ],
   "metadata": {
    "collapsed": false
   }
  },
  {
   "cell_type": "code",
   "execution_count": 49,
   "outputs": [
    {
     "name": "stderr",
     "output_type": "stream",
     "text": [
      "C:\\Users\\Q\\AppData\\Local\\Temp\\ipykernel_5396\\2597405003.py:1: UserWarning: The .grad attribute of a Tensor that is not a leaf Tensor is being accessed. Its .grad attribute won't be populated during autograd.backward(). If you indeed want the .grad field to be populated for a non-leaf Tensor, use .retain_grad() on the non-leaf Tensor. If you access the non-leaf Tensor by mistake, make sure you access the leaf Tensor instead. See github.com/pytorch/pytorch/pull/30531 for more informations. (Triggered internally at C:\\actions-runner\\_work\\pytorch\\pytorch\\builder\\windows\\pytorch\\build\\aten\\src\\ATen/core/TensorBody.h:485.)\n",
      "  w0 = w0 - (learning_rate * w0.grad)\n"
     ]
    },
    {
     "ename": "TypeError",
     "evalue": "unsupported operand type(s) for *: 'float' and 'NoneType'",
     "output_type": "error",
     "traceback": [
      "\u001B[1;31m---------------------------------------------------------------------------\u001B[0m",
      "\u001B[1;31mTypeError\u001B[0m                                 Traceback (most recent call last)",
      "Cell \u001B[1;32mIn[49], line 1\u001B[0m\n\u001B[1;32m----> 1\u001B[0m w0 \u001B[38;5;241m=\u001B[39m w0 \u001B[38;5;241m-\u001B[39m (\u001B[43mlearning_rate\u001B[49m\u001B[43m \u001B[49m\u001B[38;5;241;43m*\u001B[39;49m\u001B[43m \u001B[49m\u001B[43mw0\u001B[49m\u001B[38;5;241;43m.\u001B[39;49m\u001B[43mgrad\u001B[49m)\n",
      "\u001B[1;31mTypeError\u001B[0m: unsupported operand type(s) for *: 'float' and 'NoneType'"
     ]
    }
   ],
   "source": [
    "w0 = w0 - (learning_rate * w0.grad)"
   ],
   "metadata": {
    "collapsed": false
   }
  },
  {
   "cell_type": "code",
   "execution_count": 19,
   "outputs": [],
   "source": [
    "wbias = wbias - (learning_rate * wbias.grad)"
   ],
   "metadata": {
    "collapsed": false
   }
  },
  {
   "cell_type": "code",
   "execution_count": 25,
   "outputs": [],
   "source": [
    "i += 1"
   ],
   "metadata": {
    "collapsed": false
   }
  },
  {
   "cell_type": "code",
   "execution_count": 27,
   "outputs": [
    {
     "name": "stderr",
     "output_type": "stream",
     "text": [
      "C:\\Users\\Q\\AppData\\Local\\Temp\\ipykernel_5396\\655275700.py:1: UserWarning: The .grad attribute of a Tensor that is not a leaf Tensor is being accessed. Its .grad attribute won't be populated during autograd.backward(). If you indeed want the .grad field to be populated for a non-leaf Tensor, use .retain_grad() on the non-leaf Tensor. If you access the non-leaf Tensor by mistake, make sure you access the leaf Tensor instead. See github.com/pytorch/pytorch/pull/30531 for more informations. (Triggered internally at C:\\actions-runner\\_work\\pytorch\\pytorch\\builder\\windows\\pytorch\\build\\aten\\src\\ATen/core/TensorBody.h:485.)\n",
      "  wbias.grad\n"
     ]
    }
   ],
   "source": [
    "wbias.grad"
   ],
   "metadata": {
    "collapsed": false
   }
  },
  {
   "cell_type": "code",
   "execution_count": null,
   "outputs": [],
   "source": [],
   "metadata": {
    "collapsed": false
   }
  },
  {
   "cell_type": "code",
   "execution_count": null,
   "outputs": [],
   "source": [],
   "metadata": {
    "collapsed": false
   }
  }
 ],
 "metadata": {
  "kernelspec": {
   "display_name": "Python 3",
   "language": "python",
   "name": "python3"
  },
  "language_info": {
   "codemirror_mode": {
    "name": "ipython",
    "version": 2
   },
   "file_extension": ".py",
   "mimetype": "text/x-python",
   "name": "python",
   "nbconvert_exporter": "python",
   "pygments_lexer": "ipython2",
   "version": "2.7.6"
  }
 },
 "nbformat": 4,
 "nbformat_minor": 0
}
