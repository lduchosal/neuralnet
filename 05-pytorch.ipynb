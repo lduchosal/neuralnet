{
 "cells": [
  {
   "cell_type": "code",
   "execution_count": 16,
   "outputs": [],
   "source": [
    "def softmax(logits):\n",
    "  counts = [logit.exp() for logit in logits]\n",
    "  denominator = sum(counts)\n",
    "  out = [c / denominator for c in counts]\n",
    "  return out"
   ],
   "metadata": {
    "collapsed": false
   }
  },
  {
   "cell_type": "code",
   "execution_count": 23,
   "outputs": [],
   "source": [
    "# verify the gradient using the torch library\n",
    "# torch should give you the exact same gradient\n",
    "import torch\n",
    "\n",
    "# logits2 = [Value(0.0), Value(3.0), Value(-2.0), Value(1.0)]\n",
    "\n",
    "a = torch.tensor([0.0], requires_grad=True, dtype=float)\n",
    "b = torch.tensor([3.0], requires_grad=True, dtype=float)\n",
    "c = torch.tensor([-2.0], requires_grad=True, dtype=float)\n",
    "d = torch.tensor([1.0], requires_grad=True, dtype=float)\n",
    "\n",
    "logits = [a,b,c,d]\n",
    "\n"
   ],
   "metadata": {
    "collapsed": false
   }
  },
  {
   "cell_type": "code",
   "execution_count": 24,
   "outputs": [
    {
     "name": "stdout",
     "output_type": "stream",
     "text": [
      "tensor([2.1755], dtype=torch.float64)\n",
      "OK for dim 0: expected 0.041772570515350445, yours returns tensor([0.0418], dtype=torch.float64)\n",
      "OK for dim 1: expected 0.8390245074625319, yours returns tensor([0.8390], dtype=torch.float64)\n",
      "OK for dim 2: expected 0.005653302662216329, yours returns tensor([0.0057], dtype=torch.float64)\n",
      "OK for dim 3: expected -0.8864503806400986, yours returns tensor([-0.8865], dtype=torch.float64)\n"
     ]
    }
   ],
   "source": [
    "\n",
    "# this is the negative log likelihood loss function, pervasive in classification\n",
    "probs = softmax(logits)\n",
    "loss = -probs[3].log() # dim 3 acts as the label for this input example\n",
    "loss.backward()\n",
    "print(loss.data)\n",
    "\n",
    "ans = [0.041772570515350445, 0.8390245074625319, 0.005653302662216329, -0.8864503806400986]\n",
    "for dim in range(4):\n",
    "  ok = 'OK' if abs(logits[dim].grad - ans[dim]) < 1e-5 else 'WRONG!'\n",
    "  print(f\"{ok} for dim {dim}: expected {ans[dim]}, yours returns {logits[dim].grad}\")\n"
   ],
   "metadata": {
    "collapsed": false
   }
  }
 ],
 "metadata": {
  "kernelspec": {
   "display_name": "Python 3",
   "language": "python",
   "name": "python3"
  },
  "language_info": {
   "codemirror_mode": {
    "name": "ipython",
    "version": 2
   },
   "file_extension": ".py",
   "mimetype": "text/x-python",
   "name": "python",
   "nbconvert_exporter": "python",
   "pygments_lexer": "ipython2",
   "version": "2.7.6"
  }
 },
 "nbformat": 4,
 "nbformat_minor": 0
}
